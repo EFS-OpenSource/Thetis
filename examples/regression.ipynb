{
 "cells": [
  {
   "cell_type": "markdown",
   "metadata": {},
   "source": [
    "# Regression example with Thetis\n",
    "\n",
    "Thetis can evaluate AI systems that perform regression tasks. In this example, we demonstrate how to evaluate and rate an AI model using a basic regression example on a synthetic dataset. We utilize a Bayesian Ridge Regression model provided by [scikit-learn](https://scikit-learn.org/). The instructions below should be easy to adapt to your own use case."
   ]
  },
  {
   "cell_type": "markdown",
   "metadata": {},
   "source": [
    "## Set up the environment\n",
    "\n",
    "If you haven't done so already, install Thetis using pip:\n",
    "\n",
    "```shell\n",
    "$ pip install thetis\n",
    "```\n",
    "\n",
    "For this example, you can use the demo license located within the same directory as this notebook.\n",
    "This license only works for our demonstration dataset with the exact configuration provided in this notebook.\n",
    "Use the license file [demo_license_regression.dat](https://raw.githubusercontent.com/EFS-OpenSource/Thetis/main/examples/demo_license_regression.dat).\n",
    "\n",
    "**Important**: Do not modify the random seed that we use below to generate the dataset if you are using the demo license, since the demo license is tied to this exact dataset.\n",
    "\n",
    "Place the license file either in the working directory of your application or at:\n",
    "\n",
    "- Windows: `<User>/AppData/Local/Thetis/license.dat`\n",
    "- Unix: `~/.local/thetis/license.dat`"
   ]
  },
  {
   "cell_type": "markdown",
   "metadata": {},
   "source": [
    "## Increase logging verbosity\n",
    "\n",
    "To obtain detailed runtime information about Thetis, run the following cell. This will add a logging handler to the Thetis logger, increasing the application's verbosity."
   ]
  },
  {
   "cell_type": "code",
   "execution_count": null,
   "metadata": {},
   "outputs": [],
   "source": [
    "import logging\n",
    "import os\n",
    "import sys\n",
    "\n",
    "\n",
    "# Configure root logger as catch-all logging config\n",
    "logger = logging.getLogger(\"Thetis\")\n",
    "logger.setLevel(logging.INFO)\n",
    "handler = logging.StreamHandler(sys.stderr)\n",
    "handler.setFormatter(logging.Formatter('%(asctime)s - %(name)s - %(levelname)s - %(message)s'))\n",
    "logger.addHandler(handler)"
   ]
  },
  {
   "cell_type": "code",
   "execution_count": null,
   "metadata": {},
   "outputs": [],
   "source": [
    "import numpy as np\n",
    "import pandas as pd\n",
    "\n",
    "n_samples = 10000\n",
    "testset_size = 1000"
   ]
  },
  {
   "cell_type": "markdown",
   "metadata": {},
   "source": [
    "## Prepare example data and model\n",
    "\n",
    "For the purpose of this tutorial, we will create a synthetic dataset that records a person's net worth as a standardized asset score, along with two generic observable features, \"feature_0\" and \"feature_1.\" The regression task will be to predict the asset scores based on these features: one feature will have a linear relationship, and the other a non-linear relationship with the target score.\n",
    "\n",
    "Our dataset will also include two sensitive features, \"gender\" and \"age.\" We will artificially introduce bias into this dataset as follows:\n",
    "\n",
    "- Gender: Males will have a higher asset level compared to females.\n",
    "- Age: Seniors will have a higher asset level, adults a medium level, and juniors a lower level."
   ]
  },
  {
   "cell_type": "code",
   "execution_count": null,
   "metadata": {},
   "outputs": [],
   "source": [
    "def generate_regression_demo_dataset(n_samples: int):\n",
    "    \"\"\"\n",
    "    Create a dataset with the following properties:\n",
    "\n",
    "    Sensitive attributes: gender (male, female), age (junior, adult, senior)\n",
    "    Target: asset (standardized)\n",
    "\n",
    "    Induce the following biases:\n",
    "    - gender: male has higher income level compared to female\n",
    "    - age: senior has most, adult medium and junior less\n",
    "    \"\"\"\n",
    "    \n",
    "    # IMPORTANT: keep this seed fixed, otherwise the demonstration license will reject the resulting dataset\n",
    "    np.random.seed(0)\n",
    "\n",
    "    # first, generate some data regarding the protected/sensitive attributes \"gender\" and \"age\"\n",
    "    gender = np.random.choice([\"male\", \"female\"], replace=True, p=[0.5, 0.5], size=n_samples)\n",
    "    age = np.random.choice([\"junior\", \"adult\", \"senior\"], replace=True, p=[1./3., 1./3., 1./3.], size=n_samples)\n",
    "\n",
    "    # second, generate the (standardized) target asset scores which are drawn by a normal distribution\n",
    "    assets = np.random.normal(loc=5, scale=2, size=n_samples)\n",
    "\n",
    "    # induce bias where male have a higher asset level compared to female\n",
    "    assets[gender == \"male\"] = assets[gender == \"male\"] + np.random.uniform(0.1, 1.0, size=len(assets[gender == \"male\"]))\n",
    "    \n",
    "    # induce bias where junior have a lower and senior a higher asset level\n",
    "    assets[age == \"junior\"] = assets[age == \"junior\"] - np.random.uniform(0.1, 1.0, size=len(assets[age == \"junior\"]))\n",
    "    assets[age == \"senior\"] = assets[age == \"senior\"] + np.random.uniform(0.1, 1.0, size=len(assets[age == \"senior\"]))\n",
    "    \n",
    "    # clip everything to positive values\n",
    "    np.clip(assets, 1e-4, None, out=assets)\n",
    "    \n",
    "    # feature_0 has a linear relationship with target with some Gaussian noise\n",
    "    feature_0 = assets + np.random.normal(0, 1.0, size=n_samples)\n",
    "    \n",
    "    # feature_1 has a non-linear relationship with target with Gaussian noise\n",
    "    feature_1 = np.sqrt(assets) + np.random.normal(0, 1.0, size=n_samples)\n",
    "    \n",
    "    # finally, gather information into pd.DataFrame instances\n",
    "    features = pd.DataFrame({\"feature_0\": feature_0, \"feature_1\": feature_1})\n",
    "    annotations = pd.DataFrame({\"target\": assets, \"gender\": gender, \"age\": age})\n",
    "\n",
    "    return features, annotations"
   ]
  },
  {
   "cell_type": "markdown",
   "metadata": {},
   "source": [
    "Using this function, we will now generate our dataset. This function produces two [Pandas](https://pandas.pydata.org/) data frames: one containing the features and the other containing the target annotations. We then split this data into training and testing sets."
   ]
  },
  {
   "cell_type": "code",
   "execution_count": null,
   "metadata": {},
   "outputs": [],
   "source": [
    "# generate dataset\n",
    "features, annotations = generate_regression_demo_dataset(n_samples=n_samples)\n",
    "\n",
    "# split into training and testing data\n",
    "df_train, df_test = features.iloc[:-testset_size], features.iloc[-testset_size:]\n",
    "annotations_train, annotations_test = annotations.iloc[:-testset_size], annotations.iloc[-testset_size:]"
   ]
  },
  {
   "cell_type": "markdown",
   "metadata": {},
   "source": [
    "# Train the regression model\n",
    "\n",
    "In the next step, we will train a simple Bayesian Ridge Regression model on the training data using scikit-learn. We will then use the trained model to make predictions on the test data.\n",
    "\n",
    "*Note*: we use \"return_std=True\" with the \"predict()\" function to obtain additional uncertainty information about the predictions."
   ]
  },
  {
   "cell_type": "code",
   "execution_count": null,
   "metadata": {},
   "outputs": [],
   "source": [
    "from sklearn.linear_model import BayesianRidge\n",
    "\n",
    "# initialize model and call \"fit()\" function\n",
    "bayesian_ridge = BayesianRidge().fit(\n",
    "    X=df_train.to_numpy(), \n",
    "    y=annotations_train[\"target\"].to_numpy().squeeze()\n",
    ")"
   ]
  },
  {
   "cell_type": "code",
   "execution_count": null,
   "metadata": {},
   "outputs": [],
   "source": [
    "# make predictions on the test set and obtain additional uncertainty information\n",
    "pred, stddev = bayesian_ridge.predict(df_test.to_numpy(), return_std=True)\n",
    "\n",
    "# gather prediction information into a single pd.DataFrame\n",
    "# IMPORTANT: the index must be the same as the index of the \"annotations\" data frame\n",
    "predictions = pd.DataFrame({\"predictions\": pred, \"stddev\": stddev}, index=annotations_test.index)"
   ]
  },
  {
   "cell_type": "markdown",
   "metadata": {},
   "source": [
    "## Run Thetis to analyze and evaluate the AI system\n",
    "\n",
    "You can download the [demo configuration file](https://raw.githubusercontent.com/EFS-OpenSource/Thetis/main/examples/demo_config_regression.yaml) for this example from our repository. For detailed information on Thetis configuration, refer to the [Configuration](https://efs-opensource.github.io/Thetis/configuration.html) section.\n",
    "\n",
    "In addition to generating the report in PDF format, which we display below, Thetis also returns its findings, final rating, and recommendations for mitigation strategies as a JSON-like dictionary. We capture this dictionary as `result` and access it as follows:\n",
    "\n",
    "* `result[<aspect>]` contains a sub-dictionary with results for each aspect of the analysis, e.g. 'fairness' or 'uncertainty'.\n",
    "* `result[<aspect>]['rating_score']` contains the rating as a score from 0 to 10.\n",
    "* `result[<aspect>]['rating_enum']` contains the rating as a grade, which can be `'GOOD'`, `'MEDIUM'`, or `'BAD'`, depending on the rating score.\n",
    "* `result[<aspect>]['recommendations']` contains findings regarding possible issues and recommendations for mitigation."
   ]
  },
  {
   "cell_type": "code",
   "execution_count": null,
   "metadata": {},
   "outputs": [],
   "source": [
    "from thetis import thetis\n",
    "\n",
    "\n",
    "result = thetis(\n",
    "   config=\"demo_config_regression.yaml\",\n",
    "   annotations=annotations_test,\n",
    "   predictions=predictions,\n",
    "   output_dir=\"./output\",\n",
    "   license_file_path=\"demo_license_regression.dat\"\n",
    ")"
   ]
  },
  {
   "cell_type": "code",
   "execution_count": null,
   "metadata": {},
   "outputs": [],
   "source": [
    "# show the PDF report within the current Jupyter notebook\n",
    "from IPython.display import IFrame\n",
    "\n",
    "IFrame(\"./output/report.pdf\", width=800, height=1024)"
   ]
  }
 ],
 "metadata": {
  "language_info": {
   "name": "python"
  }
 },
 "nbformat": 4,
 "nbformat_minor": 1
}
