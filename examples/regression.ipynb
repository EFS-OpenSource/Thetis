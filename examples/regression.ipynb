{
 "cells": [
  {
   "cell_type": "markdown",
   "metadata": {},
   "source": [
    "# Regression Example with Thetis\n",
    "\n",
    "Thetis can evaluate the AI safety of regression models.\n",
    "In a first step, we demonstrate how to evaluate and rate your AI model using a basic regression example on a custom demo dataset. We utilize a Bayesian Ridge Regression model provided by [scikit-learn](https://scikit-learn.org/).\n",
    "The instructions below should be easy do adapt to your own use-case."
   ]
  },
  {
   "cell_type": "markdown",
   "metadata": {},
   "source": [
    "## Set Up the Environment\n",
    "\n",
    "In a first step, you need to install Thetis by using pip:\n",
    "\n",
    "```shell\n",
    "$ pip install thetis\n",
    "```\n",
    "\n",
    "Next, you need to obtain a license in order to use Thetis.\n",
    "\n",
    "For the current example, you can use the *demo license* located within the same directory as this notebook.\n",
    "This license only works for our demonstration data set with the exact configuration provided in this notebook.\n",
    "Use the license file [demo_license_regression.dat](https://raw.githubusercontent.com/EFS-OpenSource/Thetis/main/examples/demo_license_regression.dat).\n",
    "\n",
    "**Important**: Do not modify the random seed! Since the license is only valid for the actual demonstration case, it is necessary to keep the random seed fixed in order to make the demonstration work.\n",
    "\n",
    "A customized *full license*, enabling you to run Thetis with your own data sets and settings, is available at our [Subscription Page](https://efs-opensource.github.io/Thetis/subscription.html).\n",
    "\n",
    "Place the license file either in the working directory of your application or at:\n",
    "\n",
    "- Windows: `<User>/AppData/Local/Thetis/license.dat`\n",
    "- Unix: `~/.local/thetis/license.dat`"
   ]
  },
  {
   "cell_type": "markdown",
   "metadata": {},
   "source": [
    "## Increase Logging Verbosity\n",
    "\n",
    "For detailed runtime information about Thetis, run the following cell to add a logging handler to the Thetis logger to increase verbosity of the application."
   ]
  },
  {
   "cell_type": "code",
   "execution_count": null,
   "metadata": {},
   "outputs": [],
   "source": [
    "import logging\n",
    "import os\n",
    "\n",
    "\n",
    "# Configure root logger as catch-all logging config\n",
    "logger = logging.getLogger(\"Thetis\")\n",
    "logger.setLevel(logging.INFO)\n",
    "handler = logging.StreamHandler(sys.stderr)\n",
    "handler.setFormatter(logging.Formatter('%(asctime)s - %(name)s - %(levelname)s - %(message)s'))\n",
    "logger.addHandler(handler)"
   ]
  },
  {
   "cell_type": "code",
   "execution_count": null,
   "metadata": {},
   "outputs": [],
   "source": [
    "import numpy as np\n",
    "import pandas as pd\n",
    "\n",
    "n_samples = 10000\n",
    "testset_size = 1000"
   ]
  },
  {
   "cell_type": "markdown",
   "metadata": {},
   "source": [
    "## Prepare Example Data and Model\n",
    "\n",
    "To start with our basic regression example, we need to generate some data. In this tutorial, we use a custom demo data set with the task of asset estimation (standardized) based on two features, one with a linear and one with a non-linear relationship to the target score.\n",
    "\n",
    "We artifcially induce some biases into this data set:\n",
    "- \"gender\": male has higher asset level compared to female.\n",
    "- \"age\": senior has a higher asset level, adult a medium one and junior a lower one."
   ]
  },
  {
   "cell_type": "code",
   "execution_count": null,
   "metadata": {},
   "outputs": [],
   "source": [
    "def generate_regression_demo_dataset(n_samples: int):\n",
    "    \"\"\"\n",
    "    Create data set with following properties:\n",
    "\n",
    "    Sensitive attributes: gender (male, female), age (junior, adult, senior)\n",
    "    Target: asset (standardized)\n",
    "\n",
    "    Induce the following biases:\n",
    "    - gender: male has higher income level compared to female\n",
    "    - age: senior has most, adult medium and junior less\n",
    "    \"\"\"\n",
    "    \n",
    "    # IMPORTANT: keep this seed fixed, otherwise the demonstration license won't work\n",
    "    np.random.seed(0)\n",
    "\n",
    "    # first, generate some data regarding the protected/sensitive attributes \"gender\" and \"age\"\n",
    "    gender = np.random.choice([\"male\", \"female\"], replace=True, p=[0.5, 0.5], size=n_samples)\n",
    "    age = np.random.choice([\"junior\", \"adult\", \"senior\"], replace=True, p=[1./3., 1./3., 1./3.], size=n_samples)\n",
    "\n",
    "    # second, generate the (standardized) target asset scores which are drawn by a normal distribution\n",
    "    assets = np.random.normal(loc=5, scale=2, size=n_samples)\n",
    "\n",
    "    # induce bias where male have a higher asset level compared to female\n",
    "    assets[gender == \"male\"] = assets[gender == \"male\"] + np.random.uniform(0.1, 1.0, size=len(assets[gender == \"male\"]))\n",
    "    \n",
    "    # induce bias where junior have a lower and senior a higher asset level\n",
    "    assets[age == \"junior\"] = assets[age == \"junior\"] - np.random.uniform(0.1, 1.0, size=len(assets[age == \"junior\"]))\n",
    "    assets[age == \"senior\"] = assets[age == \"senior\"] + np.random.uniform(0.1, 1.0, size=len(assets[age == \"senior\"]))\n",
    "    \n",
    "    # clip everything to positive values\n",
    "    np.clip(assets, 1e-4, None, out=assets)\n",
    "    \n",
    "    # feature_0 has a linear relationship with target with some Gaussian noise\n",
    "    feature_0 = assets + np.random.normal(0, 1.0, size=n_samples)\n",
    "    \n",
    "    # feature_1 has a non-linear relationship with target with Gaussian noise\n",
    "    feature_1 = np.sqrt(assets) + np.random.normal(0, 1.0, size=n_samples)\n",
    "    \n",
    "    # finally, gather information into pd.DataFrame instances\n",
    "    features = pd.DataFrame({\"feature_0\": feature_0, \"feature_1\": feature_1})\n",
    "    annotations = pd.DataFrame({\"target\": assets, \"gender\": gender, \"age\": age})\n",
    "\n",
    "    return features, annotations"
   ]
  },
  {
   "cell_type": "markdown",
   "metadata": {},
   "source": [
    "With this function, we are able to generate our demo data set.\n",
    "This yields two [Pandas](https://pandas.pydata.org/) data frames with information about the features and the target annotations. We further split this data into training and testing sets."
   ]
  },
  {
   "cell_type": "code",
   "execution_count": null,
   "metadata": {},
   "outputs": [],
   "source": [
    "# generate data set\n",
    "features, annotations = generate_regression_demo_dataset(n_samples=n_samples)\n",
    "\n",
    "# split into training and testing data\n",
    "df_train, df_test = features.iloc[:-testset_size], features.iloc[-testset_size:]\n",
    "annotations_train, annotations_test = annotations.iloc[:-testset_size], annotations.iloc[-testset_size:]"
   ]
  },
  {
   "cell_type": "markdown",
   "metadata": {},
   "source": [
    "# Train Regression Model\n",
    "\n",
    "In the next step, we train a simple Bayesian Ridge Regression model on the training data using scikit-learn.\n",
    "Furthermore, we make predictions on the test data using the trained model.\n",
    "\n",
    "*Note*: we use \"return_std=True\" on the \"predict()\" function to also obtain additional uncertainty information about the predictions."
   ]
  },
  {
   "cell_type": "code",
   "execution_count": null,
   "metadata": {},
   "outputs": [],
   "source": [
    "from sklearn.linear_model import BayesianRidge\n",
    "\n",
    "# initialize model and call \"fit()\" function\n",
    "bayesian_ridge = BayesianRidge().fit(\n",
    "    X=df_train.to_numpy(), \n",
    "    y=annotations_train[\"target\"].to_numpy().squeeze()\n",
    ")"
   ]
  },
  {
   "cell_type": "code",
   "execution_count": null,
   "metadata": {},
   "outputs": [],
   "source": [
    "# make predictions on the test set and obtain additional uncertainty information\n",
    "pred, stddev = bayesian_ridge.predict(df_test.to_numpy(), return_std=True)\n",
    "\n",
    "# gather prediction information into a single pd.DataFrame\n",
    "# IMPORTANT: the index must be the same as the index of the \"annotations\" data frame\n",
    "predictions = pd.DataFrame({\"predictions\": pred, \"stddev\": stddev}, index=annotations_test.index)"
   ]
  },
  {
   "cell_type": "markdown",
   "metadata": {},
   "source": [
    "## Run AI Safety Evaluation with Thetis\n",
    "\n",
    "For all the details of Thetis configuration, see section [Configuration](https://efs-opensource.github.io/Thetis/configuration.html). You can download the [demo configuration file](https://raw.githubusercontent.com/EFS-OpenSource/Thetis/main/examples/demo_config_regression.yaml) for the current example from this repository or from [here](https://thetishostedfiles.blob.core.windows.net/demofiles/thetis_demo_regression.zip).\n",
    "\n",
    "Thetis returns its findings, the final rating and recommendations for mitigation strategies as a JSON-like dictionary. Below, we capture the dictionary as `result` and can access the different evaluation aspects:\n",
    "\n",
    "* `result[<task>]['rating_score']` for the rating score of the selected task (e.g., 'fairness' or 'uncertainty').\n",
    "* `result[<task>]['recommendations']` for the recommendations to mitigate possible issues of the selected task.\n",
    "* `result[<task>]['rating_enum']` for a categorization of the actual aspect into `'GOOD'`, `'MEDIUM'`,\n",
    "  or `'BAD'` depending on the rating score."
   ]
  },
  {
   "cell_type": "code",
   "execution_count": null,
   "metadata": {},
   "outputs": [],
   "source": [
    "from thetis import thetis\n",
    "\n",
    "\n",
    "result = thetis(\n",
    "   config=\"demo_config_regression.yaml\",\n",
    "   annotations=annotations_test,\n",
    "   predictions=predictions,\n",
    "   output_dir=\"./output\",\n",
    "   license_file_path=\"demo_license_regression.dat\"\n",
    ")"
   ]
  },
  {
   "cell_type": "code",
   "execution_count": null,
   "metadata": {},
   "outputs": [],
   "source": [
    "# show the PDF report within the current Jupyter notebook\n",
    "from IPython.display import IFrame\n",
    "\n",
    "IFrame(\"./output/report.pdf\", width=800, height=1024)"
   ]
  },
  {
   "cell_type": "code",
   "execution_count": null,
   "metadata": {},
   "outputs": [],
   "source": []
  }
 ],
 "metadata": {
  "language_info": {
   "name": "python"
  }
 },
 "nbformat": 4,
 "nbformat_minor": 1
}
